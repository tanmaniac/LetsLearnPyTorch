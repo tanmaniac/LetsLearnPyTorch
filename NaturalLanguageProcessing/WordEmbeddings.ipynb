{
 "cells": [
  {
   "cell_type": "markdown",
   "metadata": {},
   "source": [
    "# Word Embeddings: Encoding Lexical Semantics\n",
    "\n",
    "These notes are pulled from the PyTorch [tutorials on word embeddings](https://pytorch.org/tutorials/beginner/nlp/word_embeddings_tutorial.html).\n",
    "\n",
    "The gist of it is that we want to encode a sparse vector of words in a vocabulary into a dense vector representing the similarity between words in N-dimensional space.\n",
    "\n",
    "Word embeddings are a representation of the semantics of a word, efficiently encoding semantic information that might be relevant to the task at hand.\n",
    "\n",
    "## Word Embeddings in PyTorch\n",
    "\n",
    "First we need to build up a vocabulary - a mapping between integer values of words and the words themselves. The embeddings are stored as a $|V|*D$ matrix, where $D$ is the dimensionality of the embeddings. A word in the vocabulary with index $i$ has its embedding stored at the $i$th row of the embedding matrix."
   ]
  },
  {
   "cell_type": "code",
   "execution_count": 1,
   "metadata": {},
   "outputs": [],
   "source": [
    "%matplotlib inline\n",
    "\n",
    "import torch\n",
    "import torch.nn as nn\n",
    "import torch.nn.functional as F\n",
    "import torch.optim as optim\n",
    "\n",
    "torch.manual_seed(1)\n",
    "\n",
    "device = torch.device(\"cuda:0\" if torch.cuda.is_available() else \"cpu\")"
   ]
  },
  {
   "cell_type": "code",
   "execution_count": 2,
   "metadata": {},
   "outputs": [
    {
     "name": "stdout",
     "output_type": "stream",
     "text": [
      "tensor([[ 0.6614,  0.2669,  0.0617,  0.6213, -0.4519]])\n"
     ]
    }
   ],
   "source": [
    "word_to_idx = {\"hello\": 0, \"world\": 1}\n",
    "embeds = nn.Embedding(2, 5)  # A 2x5 word embedding matrix. 2 words in vocab, 5-dimensional embeddings\n",
    "lookup_tensor = torch.tensor([word_to_idx[\"hello\"]], dtype=torch.long)\n",
    "hello_embed = embeds(lookup_tensor)\n",
    "print(hello_embed)"
   ]
  },
  {
   "cell_type": "markdown",
   "metadata": {},
   "source": [
    "## N-Gram Language Modeling\n",
    "\n",
    "Given a sequence of words $w$, we want to compute\n",
    "\n",
    "$P(w_i|w_{i-1}, w_{i-2}, ... , w_{i-n+1})$\n",
    "\n",
    "Where $w_i$ is the $i$th word of the sequence. This language model is based entirely on priors and not on contextual information after the target word."
   ]
  },
  {
   "cell_type": "code",
   "execution_count": 3,
   "metadata": {},
   "outputs": [
    {
     "name": "stdout",
     "output_type": "stream",
     "text": [
      "[(['When', 'forty'], 'winters'), (['forty', 'winters'], 'shall'), (['winters', 'shall'], 'besiege')]\n",
      "[522.0236539840698, 519.4884276390076, 516.9732069969177, 514.4773879051208, 511.99951362609863, 509.53822588920593, 507.0931746959686, 504.6624233722687, 502.24437713623047, 499.83915758132935]\n"
     ]
    }
   ],
   "source": [
    "CONTEXT_SIZE = 2\n",
    "EMBEDDING_DIM = 10\n",
    "# Shakespeare's Sonnet 2\n",
    "test_sentence = \"\"\"\n",
    "When forty winters shall besiege thy brow,\n",
    "And dig deep trenches in thy beauty's field,\n",
    "Thy youth's proud livery so gazed on now,\n",
    "Will be a totter'd weed of small worth held:\n",
    "Then being asked, where all thy beauty lies,\n",
    "Where all the treasure of thy lusty days;\n",
    "To say, within thine own deep sunken eyes,\n",
    "Were an all-eating shame, and thriftless praise.\n",
    "How much more praise deserv'd thy beauty's use,\n",
    "If thou couldst answer 'This fair child of mine\n",
    "Shall sum my count, and make my old excuse,'\n",
    "Proving his beauty by succession thine!\n",
    "This were to be new made when thou art old,\n",
    "And see thy blood warm when thou feel'st it cold.\n",
    "\"\"\".split()\n",
    "\n",
    "# We build a list of tuples with two prior words for each word\n",
    "# ([ word_i-2, word_i-1], target_word)\n",
    "trigrams = [([test_sentence[i], test_sentence[i + 1]], test_sentence[i + 2])\n",
    "           for i in range(len(test_sentence) - 2)]\n",
    "# Print the first 3\n",
    "print(trigrams[:3])\n",
    "\n",
    "vocab = set(test_sentence)\n",
    "word_to_idx = {word: i for i, word in enumerate(vocab)}\n",
    "\n",
    "class NGramLanguageModeler(nn.Module):\n",
    "    def __init__(self, vocab_size, embedding_dim, context_size):\n",
    "        super(NGramLanguageModeler, self).__init__()\n",
    "        self.embeddings = nn.Embedding(vocab_size, embedding_dim)\n",
    "        self.linear1 = nn.Linear(context_size * embedding_dim, 128)\n",
    "        self.linear2 = nn.Linear(128, vocab_size)\n",
    "        \n",
    "    def forward(self, inputs):\n",
    "        embeds = self.embeddings(inputs).view((1, -1))\n",
    "        out = F.relu(self.linear1(embeds))\n",
    "        out = self.linear2(out)\n",
    "        log_probs = F.log_softmax(out, dim=1)\n",
    "        return log_probs\n",
    "    \n",
    "    \n",
    "losses = []\n",
    "loss_function = nn.NLLLoss()\n",
    "model = NGramLanguageModeler(len(vocab), EMBEDDING_DIM, CONTEXT_SIZE)\n",
    "optimizer = optim.SGD(model.parameters(), lr=0.001)\n",
    "\n",
    "# Train the embedding model\n",
    "for epoch in range(10):\n",
    "    total_loss = 0\n",
    "    for context, target in trigrams:\n",
    "        # Prepare the inputs to be passed to the model by wrapping them in tensors after\n",
    "        # converting them to integers by looking them up in the dict\n",
    "        context_idxs = torch.tensor([word_to_idx[w] for w in context], dtype=torch.long)\n",
    "        \n",
    "        # Zero the gradients\n",
    "        model.zero_grad()\n",
    "        \n",
    "        # Run the forward pass\n",
    "        log_probs = model(context_idxs)\n",
    "        \n",
    "        # Compute loss\n",
    "        loss = loss_function(log_probs, torch.tensor([word_to_idx[target]], dtype=torch.long))\n",
    "        \n",
    "        # Backprop and update gradients\n",
    "        loss.backward()\n",
    "        optimizer.step()\n",
    "        \n",
    "        # Update loss\n",
    "        total_loss += loss.item()\n",
    "    losses.append(total_loss)\n",
    "print(losses)"
   ]
  },
  {
   "cell_type": "markdown",
   "metadata": {},
   "source": [
    "## Computing Word Embeddings: Continuous Bag-of-Words\n",
    "\n",
    "From the PyTorch tutorial:\n",
    "\n",
    "> The Continuous Bag-of-Words model (CBOW) is frequently used in NLP deep learning. It is a model that tries to predict words given the context of a few words before and a few words after the target word. This is distinct from language modeling, since CBOW is not sequential and does not have to be probabilistic. Typcially, CBOW is used to quickly train word embeddings, and these embeddings are used to initialize the embeddings of some more complicated model. Usually, this is referred to as pretraining embeddings. It almost always helps performance a couple of percent.\n",
    "\n",
    "The CBOW model uses a sliding window around a target word, so if we have a window of size 2, we'd get the words\n",
    "\n",
    "<center>[$w_{i-2}, w_{i-1}, w_i, w_{i+1}, w_{i+2}$]</center>\n",
    "\n",
    "We try to minimize\n",
    "\n",
    "<center>$-\\log p(w_i|C) = -\\log \\text{Softmax}(A(\\displaystyle\\sum_{w\\in C} q_w)+b)$</center>\n",
    "\n",
    "where $q_w$ is the embedding for a word $w$."
   ]
  },
  {
   "cell_type": "code",
   "execution_count": 4,
   "metadata": {},
   "outputs": [
    {
     "name": "stdout",
     "output_type": "stream",
     "text": [
      "[(['We', 'are', 'to', 'study'], 'about'), (['are', 'about', 'study', 'the'], 'to'), (['about', 'to', 'the', 'idea'], 'study'), (['to', 'study', 'idea', 'of'], 'the'), (['study', 'the', 'of', 'a'], 'idea')]\n",
      "Epoch 0: loss = 228.42594122886658\n",
      "Epoch 1: loss = 176.64786863327026\n",
      "Epoch 2: loss = 129.75249868631363\n",
      "Epoch 3: loss = 85.45412310957909\n",
      "Epoch 4: loss = 48.56786324083805\n",
      "Epoch 5: loss = 24.920565873384476\n",
      "Epoch 6: loss = 13.618402808904648\n",
      "Epoch 7: loss = 8.675661906599998\n",
      "Epoch 8: loss = 6.227013733237982\n",
      "Epoch 9: loss = 4.8060721307992935\n",
      "Epoch 10: loss = 3.8951507341116667\n",
      "Epoch 11: loss = 3.261558823287487\n",
      "Epoch 12: loss = 2.797846030443907\n",
      "Epoch 13: loss = 2.44514284376055\n",
      "Epoch 14: loss = 2.1675586691126227\n",
      "Epoch 15: loss = 1.9444902101531625\n",
      "Epoch 16: loss = 1.7616115296259522\n",
      "Epoch 17: loss = 1.6081420117989182\n",
      "Epoch 18: loss = 1.4783792784437537\n",
      "Epoch 19: loss = 1.367209748364985\n",
      "Epoch 20: loss = 1.2708677062764764\n",
      "Epoch 21: loss = 1.1865016790106893\n",
      "Epoch 22: loss = 1.1124470341019332\n",
      "Epoch 23: loss = 1.046343811787665\n",
      "Epoch 24: loss = 0.9875816875137389\n",
      "Epoch 25: loss = 0.9345452883280814\n",
      "Epoch 26: loss = 0.8867331761866808\n",
      "Epoch 27: loss = 0.8433877294883132\n",
      "Epoch 28: loss = 0.8038966809399426\n",
      "Epoch 29: loss = 0.7677143947221339\n",
      "Epoch 30: loss = 0.7345061590895057\n",
      "Epoch 31: loss = 0.7039755173027515\n",
      "Epoch 32: loss = 0.6758227800019085\n",
      "Epoch 33: loss = 0.6495641665533185\n",
      "Epoch 34: loss = 0.6253398112021387\n",
      "Epoch 35: loss = 0.6026883162558079\n",
      "Epoch 36: loss = 0.5815759147517383\n",
      "Epoch 37: loss = 0.5618050410412252\n",
      "Epoch 38: loss = 0.54333630297333\n",
      "Epoch 39: loss = 0.5259074962232262\n",
      "Epoch 40: loss = 0.5095489313825965\n",
      "Epoch 41: loss = 0.49415407609194517\n",
      "Epoch 42: loss = 0.4795833493117243\n",
      "Epoch 43: loss = 0.46583171864040196\n",
      "Epoch 44: loss = 0.4527582502923906\n",
      "Epoch 45: loss = 0.4404394435696304\n",
      "Epoch 46: loss = 0.42872018460184336\n",
      "Epoch 47: loss = 0.41756740771234035\n",
      "Epoch 48: loss = 0.40693169040605426\n",
      "Epoch 49: loss = 0.3968387192580849\n",
      "Embeddings: torch.Size([49, 128])\n"
     ]
    }
   ],
   "source": [
    "CONTEXT_SIZE = 2  # Context to left and right\n",
    "EMBEDDING_DIM = 128\n",
    "raw_text = \"\"\"\n",
    "We are about to study the idea of a computational process.\n",
    "Computational processes are abstract beings that inhabit computers.\n",
    "As they evolve, processes manipulate other abstract things called data.\n",
    "The evolution of a process is directed by a pattern of rules\n",
    "called a program. People create programs to direct processes. In effect,\n",
    "we conjure the spirits of the computer with our spells.\n",
    "\"\"\".split()\n",
    "\n",
    "# Remove duplicates from the input text\n",
    "vocab = set(raw_text)\n",
    "vocab_size = len(vocab)\n",
    "\n",
    "word_to_idx = {word: i for i, word in enumerate(vocab)}\n",
    "idx_to_word = {i: word for word, i in word_to_idx.items()}\n",
    "data = []\n",
    "for i in range(CONTEXT_SIZE, len(raw_text) - CONTEXT_SIZE):\n",
    "    context = [raw_text[i - j] for j in range(CONTEXT_SIZE, 0, -1)] + \\\n",
    "            [raw_text[i + j] for j in range(1, CONTEXT_SIZE + 1)]\n",
    "    target = raw_text[i]\n",
    "    data.append((context, target))\n",
    "print(data[:5])\n",
    "\n",
    "\n",
    "class CBOW(nn.Module):\n",
    "    def __init__(self, vocab_size, embedding_dim, context_size):\n",
    "        super(CBOW, self).__init__()\n",
    "        self.vocab_size = vocab_size\n",
    "        self.embedding_dim = embedding_dim\n",
    "        self.context_size = context_size\n",
    "        self.embeddings = nn.Embedding(vocab_size, embedding_dim)\n",
    "        self.linear1 = nn.Linear(context_size * embedding_dim, 128)\n",
    "        self.linear2 = nn.Linear(128, vocab_size)\n",
    "    \n",
    "    def forward(self, inputs):\n",
    "        embeddings = self.embeddings(inputs).view((-1, self.context_size * self.embedding_dim))\n",
    "        out = F.relu(self.linear1(embeddings))\n",
    "        out = self.linear2(out)\n",
    "        logprob = F.log_softmax(out, dim=1)\n",
    "        return logprob\n",
    "    \n",
    "    def get_embeddings(self):\n",
    "        return self.embeddings.weight\n",
    "        \n",
    "\n",
    "def make_context_vector(context, word_to_idx):\n",
    "    idxs = [word_to_idx[w] for w in context]\n",
    "    return torch.tensor(idxs, dtype=torch.long)\n",
    "\n",
    "make_context_vector(data[0][0], word_to_idx)\n",
    "\n",
    "losses = []\n",
    "loss_fn = nn.NLLLoss()    # Negative log-likelihood loss\n",
    "model = CBOW(vocab_size, EMBEDDING_DIM, 2 * CONTEXT_SIZE)\n",
    "optimizer = optim.SGD(model.parameters(), lr=0.001, momentum=0.9)\n",
    "\n",
    "for epoch in range(50):\n",
    "    total_loss = 0.0\n",
    "    for context, target in data:\n",
    "        context_idxs = make_context_vector(context, word_to_idx)\n",
    "        model.zero_grad()\n",
    "        logprob = model(context_idxs)\n",
    "        loss = loss_fn(logprob, torch.tensor([word_to_idx[target]], dtype=torch.long))\n",
    "        # Backprop\n",
    "        loss.backward()\n",
    "        optimizer.step()\n",
    "        \n",
    "        total_loss += loss.item()\n",
    "    losses.append(total_loss)\n",
    "    print(\"Epoch {0}: loss = {1}\".format(epoch, total_loss))\n",
    "\n",
    "embeddings = model.get_embeddings()\n",
    "print(\"Embeddings: {}\".format(embeddings.size()))"
   ]
  },
  {
   "cell_type": "markdown",
   "metadata": {},
   "source": [
    "Now let's try to visualize the embeddings with a plot of t-Distributed Stochastic Neighbor Embeddings (t-SNE) of the word embeddings matrix:"
   ]
  },
  {
   "cell_type": "code",
   "execution_count": 5,
   "metadata": {},
   "outputs": [
    {
     "name": "stdout",
     "output_type": "stream",
     "text": [
      "[t-SNE] Computing 48 nearest neighbors...\n",
      "[t-SNE] Indexed 49 samples in 0.000s...\n",
      "[t-SNE] Computed neighbors for 49 samples in 0.001s...\n",
      "[t-SNE] Computed conditional probabilities for sample 49 / 49\n",
      "[t-SNE] Mean sigma: 4.334593\n",
      "[t-SNE] KL divergence after 250 iterations with early exaggeration: 51.540039\n",
      "[t-SNE] Error after 300 iterations: 0.940162\n",
      "(49, 2)\n"
     ]
    }
   ],
   "source": [
    "from sklearn.manifold import TSNE\n",
    "\n",
    "tsne = TSNE(n_components=2, verbose=1, perplexity=40, n_iter=300)\n",
    "tsne_results = tsne.fit_transform(embeddings.detach().numpy())\n",
    "\n",
    "print(tsne_results.shape)"
   ]
  },
  {
   "cell_type": "code",
   "execution_count": 6,
   "metadata": {},
   "outputs": [
    {
     "data": {
      "image/png": "[encoded data removed]",
      "text/plain": [
       "<Figure size 432x288 with 1 Axes>"
      ]
     },
     "metadata": {},
     "output_type": "display_data"
    }
   ],
   "source": [
    "import matplotlib.pyplot as plt\n",
    "\n",
    "fig, ax = plt.subplots()\n",
    "ax.scatter(tsne_results[:, 0], tsne_results[:, 1])\n",
    "\n",
    "for idx, word in idx_to_word.items():\n",
    "    ax.annotate(word, (tsne_results[idx, 0], tsne_results[idx, 1]))"
   ]
  },
  {
   "cell_type": "markdown",
   "metadata": {},
   "source": [
    "*Is this even good?*"
   ]
  }
 ],
 "metadata": {
  "kernelspec": {
   "display_name": "Python 3",
   "language": "python",
   "name": "python3"
  },
  "language_info": {
   "codemirror_mode": {
    "name": "ipython",
    "version": 3
   },
   "file_extension": ".py",
   "mimetype": "text/x-python",
   "name": "python",
   "nbconvert_exporter": "python",
   "pygments_lexer": "ipython3",
   "version": "3.6.6"
  }
 },
 "nbformat": 4,
 "nbformat_minor": 2
}
