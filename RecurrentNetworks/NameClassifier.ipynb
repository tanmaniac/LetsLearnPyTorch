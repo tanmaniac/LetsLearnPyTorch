{
 "cells": [
  {
   "cell_type": "markdown",
   "metadata": {},
   "source": [
    "# Classifying Names with a Character Level RNN\n",
    "\n",
    "This notebook is pulled from the PyTorch tutorial on [character-level RNNs for name classification](https://pytorch.org/tutorials/intermediate/char_rnn_classification_tutorial.html). We'll try to classify the nationality of a given name using a recurrent network.\n",
    "\n",
    "The original tutorial implements an RNN in a loop using one-hot vectors as character representations. This notebook tries to improve on it by directly using PyTorch's LSTM module and using an embedding layer to represent characters.\n",
    "\n",
    "The dataset is available [here](https://download.pytorch.org/tutorial/data.zip)."
   ]
  },
  {
   "cell_type": "markdown",
   "metadata": {},
   "source": [
    "## Preparing the Data\n",
    "\n",
    "The dataset contains a text file for each language, each containing names delimited by a newline. We want to create a dictionary of lists of names per language, like\n",
    "\n",
    "<center>`{language: [names ...]}`</center>"
   ]
  },
  {
   "cell_type": "code",
   "execution_count": 1,
   "metadata": {},
   "outputs": [
    {
     "name": "stdout",
     "output_type": "stream",
     "text": [
      "['data/names/Polish.txt', 'data/names/Irish.txt', 'data/names/Greek.txt', 'data/names/Dutch.txt', 'data/names/English.txt', 'data/names/Italian.txt', 'data/names/German.txt', 'data/names/Chinese.txt', 'data/names/Russian.txt', 'data/names/Korean.txt', 'data/names/Spanish.txt', 'data/names/Arabic.txt', 'data/names/Vietnamese.txt', 'data/names/Portuguese.txt', 'data/names/Scottish.txt', 'data/names/French.txt', 'data/names/Czech.txt', 'data/names/Japanese.txt']\n",
      "Slusarski\n"
     ]
    }
   ],
   "source": [
    "from __future__ import unicode_literals, print_function, division\n",
    "from io import open\n",
    "import glob\n",
    "import os\n",
    "\n",
    "DATAFILE_PATTERN = \"data/names/*.txt\"\n",
    "\n",
    "def findFiles(path):\n",
    "    return glob.glob(path)\n",
    "\n",
    "print(findFiles(DATAFILE_PATTERN))\n",
    "\n",
    "import unicodedata\n",
    "import string\n",
    "\n",
    "all_letters = string.ascii_letters + \" .,;'\"\n",
    "all_letters = {c: i + 1 for i, c in enumerate(list(all_letters))}\n",
    "n_letters = len(all_letters) + 1   # Needed later when we zero-pad batches\n",
    "\n",
    "# Turn a Unicode string to plain ASCII\n",
    "# http://stackoverflow.com/a/518232/2809427\n",
    "def unicodeToAscii(s):\n",
    "    return \"\".join(\n",
    "        c for c in unicodedata.normalize(\"NFD\", s) \n",
    "        if unicodedata.category(c) != \"Mn\" \n",
    "        and c in all_letters\n",
    "    )\n",
    "\n",
    "print(unicodeToAscii('Ślusàrski'))\n",
    "\n",
    "# Build the category_lines dictionary, a list of names per language\n",
    "category_lines = []\n",
    "all_categories = []\n",
    "\n",
    "# Read a file and split into lines\n",
    "def readLines(filename):\n",
    "    lines = open(filename, encoding=\"utf-8\").read().strip().split(\"\\n\")\n",
    "    return [unicodeToAscii(line) for line in lines]\n",
    "\n",
    "for filename in findFiles(DATAFILE_PATTERN):\n",
    "    # Get the country name from the file name\n",
    "    category = os.path.splitext(os.path.basename(filename))[0]\n",
    "    all_categories.append(category)\n",
    "    lines = readLines(filename)\n",
    "    for name in lines:\n",
    "        category_lines.append({\"name\": name, \"category\": category})\n",
    "    \n",
    "n_categories = len(all_categories)"
   ]
  },
  {
   "cell_type": "markdown",
   "metadata": {},
   "source": [
    "Example of the data stored in the dictionary:"
   ]
  },
  {
   "cell_type": "code",
   "execution_count": 2,
   "metadata": {},
   "outputs": [
    {
     "name": "stdout",
     "output_type": "stream",
     "text": [
      "[{'name': 'Adamczak', 'category': 'Polish'}, {'name': 'Adamczyk', 'category': 'Polish'}, {'name': 'Andrysiak', 'category': 'Polish'}, {'name': 'Auttenberg', 'category': 'Polish'}, {'name': 'Bartosz', 'category': 'Polish'}]\n"
     ]
    }
   ],
   "source": [
    "print(category_lines[:5])"
   ]
  },
  {
   "cell_type": "markdown",
   "metadata": {},
   "source": [
    "## Turning Names into Tensors\n",
    "\n",
    "Now we need to convert the dictionary of names into tensors. To do this, we use `all_letters` as a lookup table to get the indices of each letter in a word. These indices are later used as inputs to the network, where they are fed to an embedding layer that is trained as part of the network (rather than being static representations of each character)."
   ]
  },
  {
   "cell_type": "code",
   "execution_count": 3,
   "metadata": {},
   "outputs": [
    {
     "name": "stdout",
     "output_type": "stream",
     "text": [
      "tensor([ 36,  15,  14,   5,  19])\n",
      "(tensor([[ 12,  19],\n",
      "        [ 15,   8],\n",
      "        [ 14,  15],\n",
      "        [  7,  18],\n",
      "        [ 14,  20],\n",
      "        [  1,   0],\n",
      "        [ 13,   0],\n",
      "        [  5,   0]]), ['French', 'English'])\n"
     ]
    }
   ],
   "source": [
    "import torch\n",
    "import torch.nn as nn\n",
    "\n",
    "import numpy as np\n",
    "\n",
    "# Find letter index from all_letters, e.g. \"a\" = 0\n",
    "def letterToIndex(letter):\n",
    "    return all_letters.get(letter)\n",
    "\n",
    "# Turn a line (name) into a <line_length> tensor of indices\n",
    "def lineToTensor(line):\n",
    "    return torch.tensor([letterToIndex(c) for c in list(line)])\n",
    "\n",
    "# Generate a minibatch and its corresponding labels given a list of input\n",
    "# lines and their labels. The input lines are sorted in descending order and\n",
    "# the labels are scattered to match the inputs.\n",
    "def linesToBatch(lines, labels):\n",
    "    line_tensors = [lineToTensor(line) for line in lines]\n",
    "    # Sort lines in descending order by length\n",
    "    line_lengths = [-len(t) for t in line_tensors]\n",
    "    sort_idxs = np.argsort(line_lengths)\n",
    "    \n",
    "    # Create padded 2D tensor\n",
    "    padded_lines = nn.utils.rnn.pad_sequence([line_tensors[i] for i in sort_idxs])\n",
    "    sorted_labels = [labels[i] for i in sort_idxs]\n",
    "    \n",
    "    return padded_lines, sorted_labels\n",
    "    \n",
    "print(lineToTensor('Jones'))\n",
    "print(linesToBatch([\"short\", \"longname\"], [\"English\", \"French\"]))"
   ]
  },
  {
   "cell_type": "markdown",
   "metadata": {},
   "source": [
    "## Creating the network\n",
    "\n",
    "Our network architecture uses two linear layers that operate on an input and hidden state, and a $\\log \\text{Softmax}$ layer after the output.\n",
    "\n",
    "**TODO: Insert Network arch**\n",
    "\n",
    "The original tutorial implements an RNN cell as the model, but here I'll directly use PyTorch's LSTM module."
   ]
  },
  {
   "cell_type": "code",
   "execution_count": 4,
   "metadata": {},
   "outputs": [],
   "source": [
    "class NameClassifier(nn.Module):\n",
    "    def __init__(self, embedding_size, \n",
    "                 char_size, \n",
    "                 lstm_layers, \n",
    "                 lstm_dropout, \n",
    "                 hidden_size, \n",
    "                 num_classes):\n",
    "        \"\"\"\n",
    "        embedding_size = size of the embedding layer\n",
    "        char_size = total number of possible chars. The embedding layer ends up\n",
    "                    being <char_size x embedding_size>\n",
    "        lstm_layers = number of LSTM cells\n",
    "        hidden_size = size of the hidden layer of the LSTM\n",
    "        num_classes = number of output classes\n",
    "        \"\"\"\n",
    "        super(NameClassifier, self).__init__()\n",
    "        self.embedding_size = embedding_size\n",
    "        self.hidden_size = hidden_size\n",
    "        self.lstm_layers = lstm_layers\n",
    "        self.lstm_dropout = lstm_dropout\n",
    "        \n",
    "        # Character embedding layer\n",
    "        self.embeddings = nn.Embedding(char_size, embedding_size)\n",
    "        # Full LSTM\n",
    "        self.lstm = nn.LSTM(embedding_size, \n",
    "                            hidden_size, \n",
    "                            num_layers=self.lstm_layers, \n",
    "                            dropout=self.lstm_dropout)\n",
    "        # Affine mapping from LSTM output to logits dimension\n",
    "        self.linear = nn.Linear(hidden_size, num_classes)\n",
    "        self.softmax = nn.LogSoftmax(dim=1)\n",
    "        \n",
    "        # Initial hidden layer\n",
    "        self.hidden = self.init_hidden(1)\n",
    "    \n",
    "    def forward(self, names):\n",
    "        # The input is expected to be an N x B tensor, where N is the number of\n",
    "        # characters in the input name and B is batch size\n",
    "        # First embed the characters -> N x B x E\n",
    "        embed = self.embeddings(names)\n",
    "        # Run through LSTM\n",
    "        lstm_out, self.hidden = self.lstm(embed, self.hidden)\n",
    "        # Get the last output values as a 2D tensor B x H\n",
    "        last_out = lstm_out[-1, ...]\n",
    "        # Fully connected layer to get logits\n",
    "        logits = self.linear(last_out)\n",
    "        out = self.softmax(logits)\n",
    "        return out\n",
    "    \n",
    "    def init_hidden(self, batch_size, device=torch.device(\"cpu\")):\n",
    "        return (torch.zeros(self.lstm_layers, batch_size, self.hidden_size, device=device),\n",
    "                torch.zeros(self.lstm_layers, batch_size, self.hidden_size, device=device))\n",
    "    \n",
    "hidden_size = 128\n",
    "embedding_size = 32\n",
    "lstm_layers = 2\n",
    "lstm_dropout = 0.33\n",
    "model = NameClassifier(embedding_size, n_letters, lstm_layers, lstm_dropout, hidden_size, n_categories)"
   ]
  },
  {
   "cell_type": "markdown",
   "metadata": {},
   "source": [
    "Pass an input to the network and see what it spits out. The predictions should be roughly equal for all classes."
   ]
  },
  {
   "cell_type": "code",
   "execution_count": 5,
   "metadata": {},
   "outputs": [
    {
     "name": "stdout",
     "output_type": "stream",
     "text": [
      "tensor([[-2.7948, -2.8526, -2.8615, -2.8600, -2.9246, -2.9197, -2.8821,\n",
      "         -2.8856, -2.8322, -2.9537, -2.8680, -2.8618, -2.9361, -2.9881,\n",
      "         -2.8702, -2.8886, -2.8647, -3.0070]])\n"
     ]
    }
   ],
   "source": [
    "with torch.no_grad():\n",
    "    input, label = linesToBatch([\"Albert\"], [\"English\"])\n",
    "    output = model(input)\n",
    "\n",
    "    print(output)"
   ]
  },
  {
   "cell_type": "markdown",
   "metadata": {},
   "source": [
    "## Training\n",
    "\n",
    "### Preparing for training\n",
    "\n",
    "We need a few helper to deal with the outputs and format the input data. First we define a helper function to get the output of the network using `torch.argmax()` to get the index of the greatest value:"
   ]
  },
  {
   "cell_type": "code",
   "execution_count": 6,
   "metadata": {},
   "outputs": [
    {
     "name": "stdout",
     "output_type": "stream",
     "text": [
      "('Polish', 0)\n"
     ]
    }
   ],
   "source": [
    "def categoryFromOutput(output):\n",
    "    max_idx = torch.argmax(output)\n",
    "    return all_categories[max_idx], max_idx.item()\n",
    "\n",
    "print(categoryFromOutput(output))"
   ]
  },
  {
   "cell_type": "markdown",
   "metadata": {},
   "source": [
    "We also need a way to get a minibatch from the dataset. I couldn't really figure out a good way to match the labels with the input data such that I could easily shuffle the data, so we just create a reverse dictionary of the input data and the labels."
   ]
  },
  {
   "cell_type": "code",
   "execution_count": 7,
   "metadata": {},
   "outputs": [
    {
     "name": "stdout",
     "output_type": "stream",
     "text": [
      "Length = 18067\n",
      "[{'name': 'Vikhrev', 'category': 'Russian'}, {'name': 'Minyaichev', 'category': 'Russian'}, {'name': 'Gudkov', 'category': 'Russian'}, {'name': 'Djangirli', 'category': 'Russian'}]\n"
     ]
    }
   ],
   "source": [
    "from torch.utils import data\n",
    "from sklearn.utils import shuffle\n",
    "\n",
    "def make_train_val_sets(data_dict, split_size):\n",
    "    \"\"\"\n",
    "    Shuffle the dataset and split it into training and validation sets.\n",
    "    \n",
    "    Input:   data_dict - a list of dictionaries with keys \"name\" and \"category\"\n",
    "             split_size: value between 0 and 1 representing the percentage of the\n",
    "                         data that should be in the training set\n",
    "    Outputs: train_data: Training data in the same format as the input\n",
    "             val_data: validation data in the same format as the input\n",
    "    \"\"\"\n",
    "    data_len = len(data_dict)\n",
    "    num_train = round(data_len * split_size)\n",
    "    # Shuffle the data so we get random indices\n",
    "    data_shuf = shuffle(data_dict)\n",
    "    train_data = data_shuf[:num_train]\n",
    "    val_data = data_shuf[num_train:]\n",
    "    return train_data, val_data\n",
    "\n",
    "class NamesDataset(data.Dataset):\n",
    "    \"\"\"\n",
    "    Name -> nationality dataset. Basically just a wrapper around a list of dicts\n",
    "    \"\"\"\n",
    "    def __init__(self, label_name_dict, transform=None):\n",
    "        \"\"\"\n",
    "        Load the data from an input list of dictionaries with the form\n",
    "            {\"name\": name, \"category\": label}\n",
    "        into a local list\n",
    "        \"\"\"\n",
    "        self.examples = label_name_dict\n",
    "        self.transform = transform  # We don't actually do anything with this\n",
    "                \n",
    "    def __len__(self):\n",
    "        return len(self.examples)\n",
    "    \n",
    "    def __getitem__(self, idx):\n",
    "        return self.examples[idx]\n",
    "\n",
    "\n",
    "train_data, val_data = make_train_val_sets(category_lines, 0.9)\n",
    "\n",
    "train_dataset = NamesDataset(train_data)\n",
    "val_dataset = NamesDataset(val_data)\n",
    "print(\"Length = {}\".format(len(train_dataset)))\n",
    "\n",
    "# Get a couple values\n",
    "print(train_dataset[:4])"
   ]
  },
  {
   "cell_type": "markdown",
   "metadata": {},
   "source": [
    "We also can use `torch.utils.data.DataLoader` to serve up the data with batching and shuffling. Earlier, we defined a function to create a tensor input - we can wrap this in a collate function to be called by the data loader when creating a minibatch."
   ]
  },
  {
   "cell_type": "code",
   "execution_count": 8,
   "metadata": {},
   "outputs": [
    {
     "name": "stdout",
     "output_type": "stream",
     "text": [
      "Tensor representation of minibatch values:\n",
      "tensor([[ 48,  37,  39,  38,  39,  44,  51,  30],\n",
      "        [  9,   1,   1,   9,   1,   5,   1,   5],\n",
      "        [ 12,  12,  11,  22,   7,  13,   7,   5],\n",
      "        [  2,   9,  21,   1,  21,   1,  21,   2],\n",
      "        [ 18,  14,  19,  14,   9,   5,  16,   0],\n",
      "        [  5,   9,   8,  19,  18,  22,   1,   0],\n",
      "        [  8,   3,  15,  11,   5,   0,   0,   0],\n",
      "        [ 20,   8,  11,  25,   0,   0,   0,   0]])\n",
      "Tensor representation of labels:\n",
      "tensor([  8,   8,   8,   8,   4,   8,   8,  11])\n"
     ]
    }
   ],
   "source": [
    "categories_dict = {category: idx for idx, category in enumerate(all_categories)}\n",
    "\n",
    "def collate_fn(data):\n",
    "    \"\"\"\n",
    "    Create a tensor minibatch to be fed to the recurrent network.\n",
    "    \"\"\"\n",
    "    #names = data.get(\"name\")\n",
    "    #categories = data.get(\"category\")\n",
    "    names = [i.get(\"name\") for i in data]\n",
    "    categories = [i.get(\"category\") for i in data]\n",
    "    line_tensor, matched_labels = linesToBatch(names, categories)\n",
    "    \n",
    "    # Create a tensor from the matched labels\n",
    "    labels_tensor = torch.tensor([categories_dict.get(label) for label in matched_labels])\n",
    "    return line_tensor, labels_tensor\n",
    "\n",
    "names_loader = data.DataLoader(train_dataset, batch_size=8, shuffle=True, num_workers=1, collate_fn=collate_fn)\n",
    "\n",
    "for i_batch, sample_batched in enumerate(names_loader):\n",
    "    X, y = sample_batched\n",
    "    print(\"Tensor representation of minibatch values:\\n{}\".format(X))\n",
    "    print(\"Tensor representation of labels:\\n{}\".format(y))\n",
    "    \n",
    "    if i_batch == 0:\n",
    "        break"
   ]
  },
  {
   "cell_type": "markdown",
   "metadata": {},
   "source": [
    "### Training the network\n",
    "\n",
    "We use `nn.NLLLoss` as our loss function, which works with the final `nn.LogSoftmax` layer of the network.\n",
    "\n",
    "To train, each loop will:\n",
    "- Get a batch from the `DataLoader` instance\n",
    "- Zero the initial hidden state\n",
    "- Do a forward pass through the network\n",
    "- Compute the loss\n",
    "- Backpropogate\n",
    "\n",
    "For each epoch, we will print out the total loss."
   ]
  },
  {
   "cell_type": "code",
   "execution_count": 9,
   "metadata": {},
   "outputs": [
    {
     "name": "stdout",
     "output_type": "stream",
     "text": [
      "Epoch 0: loss = 209.1823548078537\n",
      "    Validation error = 0.34791666666666665\n",
      "Epoch 10: loss = 52.00770819187164\n",
      "    Validation error = 0.1765625\n",
      "Epoch 20: loss = 33.074283830821514\n",
      "    Validation error = 0.1765625\n",
      "Epoch 30: loss = 24.467941403388977\n",
      "    Validation error = 0.17239583333333333\n",
      "Epoch 40: loss = 21.052004996687174\n",
      "    Validation error = 0.1859375\n",
      "Epoch 50: loss = 18.69650136306882\n",
      "    Validation error = 0.18541666666666667\n",
      "Epoch 60: loss = 17.441858172416687\n",
      "    Validation error = 0.18541666666666667\n",
      "Epoch 70: loss = 17.809918630868196\n",
      "    Validation error = 0.19166666666666668\n",
      "Epoch 80: loss = 17.48354734480381\n",
      "    Validation error = 0.18541666666666667\n",
      "Epoch 90: loss = 16.37552721053362\n",
      "    Validation error = 0.1828125\n"
     ]
    }
   ],
   "source": [
    "import time\n",
    "import math\n",
    "import torch.optim as optim\n",
    "\n",
    "learning_rate = 0.003\n",
    "num_epochs = 100\n",
    "batch_size = 128\n",
    "print_every_n_epochs = 10\n",
    "\n",
    "hidden_size = 128\n",
    "embedding_size = 128\n",
    "lstm_layers = 2\n",
    "lstm_dropout = 0.60\n",
    "model = NameClassifier(embedding_size, n_letters, lstm_layers, lstm_dropout, hidden_size, n_categories)\n",
    "\n",
    "criterion = nn.NLLLoss()\n",
    "optimizer = optim.Adam(model.parameters(), lr=learning_rate)\n",
    "\n",
    "train_loader = data.DataLoader(train_dataset, \n",
    "                               batch_size=batch_size, \n",
    "                               shuffle=True, \n",
    "                               num_workers=1, \n",
    "                               collate_fn=collate_fn,\n",
    "                               drop_last=True)\n",
    "val_loader = data.DataLoader(val_dataset,\n",
    "                             batch_size=batch_size,\n",
    "                             shuffle=True,\n",
    "                             num_workers=1,\n",
    "                             collate_fn=collate_fn,\n",
    "                             drop_last=True)\n",
    "\n",
    "device = torch.device(\"cuda:0\" if torch.cuda.is_available() else \"cpu\")\n",
    "#torch.backends.cudnn.enabled=False\n",
    "\n",
    "model.to(device)\n",
    "\n",
    "all_losses = []\n",
    "val_errors = []\n",
    "\n",
    "for epoch in range(num_epochs):\n",
    "    total_loss = 0.0\n",
    "    model.train()\n",
    "    for i, batch in enumerate(train_loader):\n",
    "        model.zero_grad()\n",
    "        names, labels = batch\n",
    "        names, labels = names.to(device), labels.to(device)\n",
    "        \n",
    "        \n",
    "        # Zero hidden state\n",
    "        model.hidden = model.init_hidden(batch_size, device=device)\n",
    "        # Forward pass\n",
    "        scores = model(names)\n",
    "        \n",
    "        # Compute loss, gradients, and update params\n",
    "        loss = criterion(scores, labels)\n",
    "        loss.backward()\n",
    "        optimizer.step()\n",
    "        \n",
    "        total_loss += loss.item()\n",
    "        \n",
    "    all_losses.append(total_loss)\n",
    "    if epoch % print_every_n_epochs == 0:\n",
    "        print(\"Epoch {}: loss = {}\".format(epoch, total_loss))\n",
    "    \n",
    "    # Compute validation error\n",
    "    total_error = 0.0\n",
    "    batch_count = 0\n",
    "    model.eval()\n",
    "    with torch.no_grad():\n",
    "        for i, batch in enumerate(val_loader):\n",
    "            model.zero_grad()\n",
    "            names, labels = batch\n",
    "            names, labels = names.to(device), labels.to(device)\n",
    "            \n",
    "            # Zero hidden state\n",
    "            model.hidden = model.init_hidden(batch_size, device=device)\n",
    "            # Forward pass\n",
    "            scores = model(names)\n",
    "            \n",
    "            # Compute error\n",
    "            top1 = scores.argmax(1)\n",
    "            diff = top1 != labels\n",
    "            total_error += torch.nonzero(diff).size(0)\n",
    "            batch_count += 1\n",
    "    total_error /= (batch_count * batch_size)\n",
    "    val_errors.append(total_error)\n",
    "    if epoch % print_every_n_epochs == 0:\n",
    "        print(\"    Validation error = {}\".format(total_error))\n",
    "    "
   ]
  },
  {
   "cell_type": "markdown",
   "metadata": {},
   "source": [
    "### Plot results"
   ]
  },
  {
   "cell_type": "code",
   "execution_count": 10,
   "metadata": {},
   "outputs": [
    {
     "data": {
      "text/plain": [
       "[<matplotlib.lines.Line2D at 0x7f3e3af50cc0>]"
      ]
     },
     "execution_count": 10,
     "metadata": {},
     "output_type": "execute_result"
    },
    {
     "data": {
      "image/png": "[encoded data removed]",
      "text/plain": [
       "<Figure size 432x288 with 1 Axes>"
      ]
     },
     "metadata": {},
     "output_type": "display_data"
    },
    {
     "data": {
      "image/png": "[encoded data removed]",
      "text/plain": [
       "<Figure size 432x288 with 1 Axes>"
      ]
     },
     "metadata": {},
     "output_type": "display_data"
    }
   ],
   "source": [
    "%matplotlib inline\n",
    "\n",
    "import matplotlib.pyplot as plt\n",
    "import matplotlib.ticker as ticker\n",
    "\n",
    "plt.figure()\n",
    "plt.title(\"Training loss\")\n",
    "plt.xlabel(\"Epochs\")\n",
    "plt.ylabel(\"Loss\")\n",
    "plt.plot(all_losses)\n",
    "\n",
    "plt.figure()\n",
    "plt.title(\"Validation error\")\n",
    "plt.xlabel(\"Epochs\")\n",
    "plt.ylabel(\"Error (%)\")\n",
    "plt.plot(val_errors)"
   ]
  },
  {
   "cell_type": "markdown",
   "metadata": {},
   "source": [
    "## Evaluate results\n",
    "\n",
    "We'll create a confusion matrix for the results of the validation dataset, which shows which language the network guesses versus the correct label. Correct labels are the rows of the matrix and network predictions are the columns."
   ]
  },
  {
   "cell_type": "code",
   "execution_count": 11,
   "metadata": {},
   "outputs": [
    {
     "name": "stdout",
     "output_type": "stream",
     "text": [
      "Confusion matrix with training data\n"
     ]
    },
    {
     "data": {
      "image/png": "[encoded data removed]",
      "text/plain": [
       "<Figure size 432x288 with 2 Axes>"
      ]
     },
     "metadata": {},
     "output_type": "display_data"
    },
    {
     "name": "stdout",
     "output_type": "stream",
     "text": [
      "Confusion matrix with validation data\n"
     ]
    },
    {
     "data": {
      "image/png": "[encoded data removed]",
      "text/plain": [
       "<Figure size 432x288 with 2 Axes>"
      ]
     },
     "metadata": {},
     "output_type": "display_data"
    }
   ],
   "source": [
    "def compute_confusion(data_loader):\n",
    "    confusion = torch.zeros(n_categories, n_categories)\n",
    "\n",
    "    model.eval()\n",
    "    with torch.no_grad():\n",
    "        for i, batch in enumerate(data_loader):\n",
    "            model.zero_grad()\n",
    "            names, labels = batch\n",
    "            names, labels = names.to(device), labels.to(device)\n",
    "\n",
    "            # Zero hidden state\n",
    "            model.hidden = model.init_hidden(batch_size, device=device)\n",
    "            # Forward pass\n",
    "            scores = model(names)\n",
    "\n",
    "            # Compute error\n",
    "            prediction = scores.argmax(1)\n",
    "            for i in range(prediction.size()[0]):\n",
    "                confusion[labels[i], prediction[i]] += 1\n",
    "\n",
    "    # Normalize by dividing every row by its sum\n",
    "    for i in range(n_categories):\n",
    "        confusion[i] = confusion[i] / confusion[i].sum()\n",
    "\n",
    "    # Set up plot\n",
    "    fig = plt.figure()\n",
    "    ax = fig.add_subplot(111)\n",
    "    cax = ax.matshow(confusion.numpy())\n",
    "    fig.colorbar(cax)\n",
    "\n",
    "    # Set up axes\n",
    "    ax.set_xticklabels([''] + all_categories, rotation=90)\n",
    "    ax.set_yticklabels([''] + all_categories)\n",
    "\n",
    "    # Force label at every tick\n",
    "    ax.xaxis.set_major_locator(ticker.MultipleLocator(1))\n",
    "    ax.yaxis.set_major_locator(ticker.MultipleLocator(1))\n",
    "\n",
    "    return plt\n",
    "\n",
    "plt = compute_confusion(train_loader)\n",
    "print(\"Confusion matrix with training data\")\n",
    "plt.show()\n",
    "\n",
    "plt = compute_confusion(val_loader)\n",
    "print(\"Confusion matrix with validation data\")\n",
    "plt.show()"
   ]
  },
  {
   "cell_type": "markdown",
   "metadata": {},
   "source": [
    "## Final notes\n",
    "\n",
    "It's clear that the network gets confused between English and Scottish names. Looking at the dataset, it's obvious why - there are a lot of names that are repeated between English and Scottish. Similarly, the network is confused between Chinese and Korean names. Russian and Arabic names get classified pretty well."
   ]
  }
 ],
 "metadata": {
  "kernelspec": {
   "display_name": "Python 3",
   "language": "python",
   "name": "python3"
  },
  "language_info": {
   "codemirror_mode": {
    "name": "ipython",
    "version": 3
   },
   "file_extension": ".py",
   "mimetype": "text/x-python",
   "name": "python",
   "nbconvert_exporter": "python",
   "pygments_lexer": "ipython3",
   "version": "3.6.6"
  }
 },
 "nbformat": 4,
 "nbformat_minor": 2
}
